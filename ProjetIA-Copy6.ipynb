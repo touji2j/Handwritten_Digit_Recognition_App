{
 "cells": [
  {
   "cell_type": "markdown",
   "metadata": {},
   "source": [
    "# Projet IA, TESTT 1: 4*4 cells ❤"
   ]
  },
  {
   "cell_type": "markdown",
   "metadata": {},
   "source": [
    "##### Made with ❤ By Zineb & Oumayma :) "
   ]
  },
  {
   "cell_type": "markdown",
   "metadata": {},
   "source": [
    "#### Etapes de Construction :"
   ]
  },
  {
   "cell_type": "markdown",
   "metadata": {},
   "source": [
    "\n",
    "\n",
    "_Dataset utilisé : MNIST_\n",
    "> **🟣Traitement de l'image : thinning line, 4 bords de l'image, resize de l'image**\n",
    "\n",
    "> **🟣Feature Extraction :  chaque image représente 16 blocs, chaque bloc a trois features, chaque feature est représenté par un seul neuronne donc input = 48 neuronnes en entrée**\n",
    "\n",
    "> **🟣Commencons le travail**\n"
   ]
  },
  {
   "cell_type": "markdown",
   "metadata": {},
   "source": [
    "### Importation Des Librairies ✔"
   ]
  },
  {
   "cell_type": "code",
   "execution_count": 1,
   "metadata": {},
   "outputs": [],
   "source": [
    "# Importer torch\n",
    "import skimage \n",
    "from skimage import morphology\n",
    "import torch\n",
    "import skimage\n",
    "from torchvision import datasets\n",
    "import torchvision.transforms as transforms\n",
    "import numpy as np\n",
    "import matplotlib.pyplot as plt\n",
    "from torchvision import datasets\n",
    "from sklearn.linear_model import LinearRegression\n",
    "from skimage import transform as tf\n",
    "from sklearn.model_selection import train_test_split\n"
   ]
  },
  {
   "cell_type": "markdown",
   "metadata": {},
   "source": [
    "### Récupération des données ✔"
   ]
  },
  {
   "cell_type": "code",
   "execution_count": 2,
   "metadata": {},
   "outputs": [],
   "source": [
    "# Récupérer les données d'apprentissage\n",
    "data1_train=datasets.MNIST(root='./data',train=True,download=True)\n"
   ]
  },
  {
   "cell_type": "code",
   "execution_count": 3,
   "metadata": {},
   "outputs": [],
   "source": [
    "# Récupérer les données de test\n",
    "data1_test=datasets.MNIST(root='datatest',train=False,download=True)"
   ]
  },
  {
   "cell_type": "markdown",
   "metadata": {},
   "source": [
    "### Visualisation des données ✔"
   ]
  },
  {
   "cell_type": "code",
   "execution_count": 4,
   "metadata": {},
   "outputs": [
    {
     "data": {
      "image/png": "[encoded data removed]",
      "text/plain": [
       "<Figure size 720x720 with 25 Axes>"
      ]
     },
     "metadata": {
      "needs_background": "light"
     },
     "output_type": "display_data"
    }
   ],
   "source": [
    "#affichage des images avec leurs labels\n",
    "figure=plt.figure(figsize=(10,10))\n",
    "for i in range(25):\n",
    "    plt.subplot(5,5,i+1)\n",
    "    image=data1_train[i][0]\n",
    "    plt.title(data1_train[i][1])\n",
    "    plt.imshow(image,interpolation='none',cmap='gray')\n",
    "    plt.gray()\n",
    "    plt.axis('off')"
   ]
  },
  {
   "cell_type": "code",
   "execution_count": null,
   "metadata": {},
   "outputs": [],
   "source": []
  },
  {
   "cell_type": "code",
   "execution_count": null,
   "metadata": {},
   "outputs": [],
   "source": []
  },
  {
   "cell_type": "markdown",
   "metadata": {},
   "source": [
    "## Traitement de l'image ❤"
   ]
  },
  {
   "cell_type": "markdown",
   "metadata": {},
   "source": [
    "\n",
    "### 1. thinning line ✔"
   ]
  },
  {
   "cell_type": "code",
   "execution_count": 199,
   "metadata": {},
   "outputs": [],
   "source": [
    "\n",
    "def binaire(img) :\n",
    "        i,k=0,0\n",
    "        g=np.array(img)\n",
    "        for i in range(0,28):\n",
    "            \n",
    "            for k in range(0,28):\n",
    "              \n",
    "                if g[i][k]!=0 :\n",
    "                    \n",
    "                    g[i][k]=1\n",
    "                \n",
    "        return g"
   ]
  },
  {
   "cell_type": "code",
   "execution_count": 197,
   "metadata": {},
   "outputs": [],
   "source": [
    "\n",
    "def thin(img):\n",
    "    data_train_bin=binaire(img)\n",
    "    data_train_skl = skimage.morphology.skeletonize(data_train_bin)\n",
    "    data_train_thin= skimage.morphology.thin(data_train_skl , max_iter=3)\n",
    "    return data_train_thin"
   ]
  },
  {
   "cell_type": "markdown",
   "metadata": {},
   "source": [
    "_Before Thinning_"
   ]
  },
  {
   "cell_type": "code",
   "execution_count": 15,
   "metadata": {},
   "outputs": [
    {
     "data": {
      "text/plain": [
       "torch.Size([28, 28])"
      ]
     },
     "execution_count": 15,
     "metadata": {},
     "output_type": "execute_result"
    },
    {
     "data": {
      "image/png": "[encoded data removed]",
      "text/plain": [
       "<Figure size 432x288 with 1 Axes>"
      ]
     },
     "metadata": {
      "needs_background": "light"
     },
     "output_type": "display_data"
    }
   ],
   "source": [
    "img=data1_train.data[7]\n",
    "plt.imshow(img, cmap=\"gray\")\n",
    "img.shape"
   ]
  },
  {
   "cell_type": "markdown",
   "metadata": {},
   "source": [
    "_After Thinning_"
   ]
  },
  {
   "cell_type": "code",
   "execution_count": 200,
   "metadata": {},
   "outputs": [
    {
     "data": {
      "text/plain": [
       "(28, 28)"
      ]
     },
     "execution_count": 200,
     "metadata": {},
     "output_type": "execute_result"
    },
    {
     "data": {
      "image/png": "[encoded data removed]",
      "text/plain": [
       "<Figure size 432x288 with 1 Axes>"
      ]
     },
     "metadata": {
      "needs_background": "light"
     },
     "output_type": "display_data"
    }
   ],
   "source": [
    "#testing\n",
    "img=data1_train.data[7]\n",
    "img=thin(img)\n",
    "plt.imshow(img, cmap=\"gray\")\n",
    "img.shape"
   ]
  },
  {
   "cell_type": "markdown",
   "metadata": {},
   "source": [
    "### 2. Les bords de l'image ✔"
   ]
  },
  {
   "cell_type": "code",
   "execution_count": 195,
   "metadata": {},
   "outputs": [],
   "source": [
    "def crop(img):\n",
    "    img=thin(img)\n",
    "    img= img[~np.all(img == 0, axis=1)]\n",
    "    img=np.transpose(img)\n",
    "    img= img[~np.all(img== 0, axis=1)]\n",
    "    img=np.transpose(img)\n",
    "    img= tf.resize(img, (28, 28), order=0)\n",
    "    return img"
   ]
  },
  {
   "cell_type": "code",
   "execution_count": 201,
   "metadata": {},
   "outputs": [
    {
     "name": "stdout",
     "output_type": "stream",
     "text": [
      "(28, 28)\n"
     ]
    },
    {
     "data": {
      "text/plain": [
       "<matplotlib.image.AxesImage at 0x1d3e650f0a0>"
      ]
     },
     "execution_count": 201,
     "metadata": {},
     "output_type": "execute_result"
    },
    {
     "data": {
      "image/png": "[encoded data removed]",
      "text/plain": [
       "<Figure size 432x288 with 1 Axes>"
      ]
     },
     "metadata": {
      "needs_background": "light"
     },
     "output_type": "display_data"
    }
   ],
   "source": [
    "#testing\n",
    "b=crop(data1_train.data[7])\n",
    "print(b.shape)\n",
    "plt.imshow(b, cmap=\"gray\")"
   ]
  },
  {
   "cell_type": "markdown",
   "metadata": {},
   "source": [
    "## Feature Extraction ❤"
   ]
  },
  {
   "cell_type": "markdown",
   "metadata": {},
   "source": []
  },
  {
   "cell_type": "markdown",
   "metadata": {},
   "source": [
    "### 1. Découpage en 16 blocs ✔"
   ]
  },
  {
   "cell_type": "code",
   "execution_count": 329,
   "metadata": {},
   "outputs": [],
   "source": [
    "def split(img):\n",
    "    img=thin(img)\n",
    "    #split into blocks of (7*7)\n",
    "    block=[]\n",
    "    [row, col]=img.shape\n",
    "    for i in range (0, row, 7):\n",
    "        for j in range(0, col, 7):\n",
    "            block.append(img[i:i+7, j:j+7])\n",
    "    return block"
   ]
  },
  {
   "cell_type": "markdown",
   "metadata": {},
   "source": [
    "_affichage des 16 blocks d'une image_"
   ]
  },
  {
   "cell_type": "code",
   "execution_count": 324,
   "metadata": {},
   "outputs": [
    {
     "data": {
      "image/png": "[encoded data removed]",
      "text/plain": [
       "<Figure size 720x720 with 16 Axes>"
      ]
     },
     "metadata": {
      "needs_background": "light"
     },
     "output_type": "display_data"
    }
   ],
   "source": [
    "#affichage des images avec leurs labels\n",
    "figure=plt.figure(figsize=(10,10))\n",
    "for i in range(16):\n",
    "    plt.subplot(4,4,i+1)\n",
    "    image=block[i]\n",
    "    plt.title(i)\n",
    "    plt.imshow(image,cmap='gray')\n",
    "    plt.gray()\n",
    "    plt.axis('off')"
   ]
  },
  {
   "cell_type": "markdown",
   "metadata": {},
   "source": [
    "_Zoomant un peu plus sur un block_ 😍"
   ]
  },
  {
   "cell_type": "code",
   "execution_count": 325,
   "metadata": {},
   "outputs": [
    {
     "data": {
      "text/plain": [
       "<matplotlib.image.AxesImage at 0x1d3d8484a00>"
      ]
     },
     "execution_count": 325,
     "metadata": {},
     "output_type": "execute_result"
    },
    {
     "data": {
      "image/png": "[encoded data removed]",
      "text/plain": [
       "<Figure size 432x288 with 1 Axes>"
      ]
     },
     "metadata": {
      "needs_background": "light"
     },
     "output_type": "display_data"
    }
   ],
   "source": [
    "#testing crop\n",
    "img=data1_train.data[2000]\n",
    "block=split(img)\n",
    "plt.imshow(block[14], cmap=\"gray\")"
   ]
  },
  {
   "cell_type": "markdown",
   "metadata": {},
   "source": [
    "### 2. Récupération des features ( Régression lineaire)"
   ]
  },
  {
   "cell_type": "markdown",
   "metadata": {},
   "source": [
    "_linear regression to fit straight lines to curve lines_"
   ]
  },
  {
   "cell_type": "markdown",
   "metadata": {},
   "source": [
    "_From the Paper : \"SIMPLE AND EFFECTIVE FEATURE EXTRACTION FOR OPTICAL CHARACTER RECOGNITION\"_\n",
    "![bb](bb.png)\n",
    "![aa](aa.png)"
   ]
  },
  {
   "cell_type": "markdown",
   "metadata": {},
   "source": [
    "#### Feature 1 ✔"
   ]
  },
  {
   "cell_type": "code",
   "execution_count": 207,
   "metadata": {},
   "outputs": [],
   "source": [
    "def total_noir(img) :\n",
    "        i,k=0,0\n",
    "        g=crop(img)\n",
    "        total=0\n",
    "        for i in range(0,28):\n",
    "            \n",
    "            for k in range(0,28):\n",
    "              \n",
    "                if g[i][k]!=0 :\n",
    "                    \n",
    "                    total=total+1\n",
    "                \n",
    "        return total"
   ]
  },
  {
   "cell_type": "code",
   "execution_count": 208,
   "metadata": {},
   "outputs": [],
   "source": [
    "c=total_noir(data1_train.data[12])\n"
   ]
  },
  {
   "cell_type": "markdown",
   "metadata": {},
   "source": [
    "### Local Line Fitting\n",
    "_From the Paper : \"SIMPLE AND EFFECTIVE FEATURE EXTRACTION FOR OPTICAL CHARACTER RECOGNITION\"_\n",
    "\n",
    "![cc](cc.png)"
   ]
  },
  {
   "cell_type": "code",
   "execution_count": 209,
   "metadata": {},
   "outputs": [],
   "source": [
    "#coordonnées des points noirs de chaque bloc\n",
    "def coord(img,k):\n",
    "    block=split(img)\n",
    "    g=block[k]\n",
    "    X=[]\n",
    "    Y=[]\n",
    "    i,j=0,0\n",
    "    for i in range(0,7):\n",
    "        for j in range(0,7):\n",
    "            if g[i][j]!=0 :\n",
    "                Y.append(i)\n",
    "                X.append(j)\n",
    "            \n",
    "    return [X,Y]"
   ]
  },
  {
   "cell_type": "code",
   "execution_count": 214,
   "metadata": {},
   "outputs": [
    {
     "data": {
      "text/plain": [
       "[[], []]"
      ]
     },
     "execution_count": 214,
     "metadata": {},
     "output_type": "execute_result"
    }
   ],
   "source": [
    "coord(data1_train.data[2000],4)"
   ]
  },
  {
   "cell_type": "code",
   "execution_count": 327,
   "metadata": {},
   "outputs": [
    {
     "name": "stdout",
     "output_type": "stream",
     "text": [
      "[-0.8972912]\n"
     ]
    }
   ],
   "source": [
    "        #tesing\n",
    "        M=[[5, 6, 2, 3, 4, 2, 3, 4, 2, 3, 4, 0, 1, 0, 1, 0, 1],\n",
    "       [0, 0, 1, 1, 1, 2, 2, 2, 3, 3, 3, 4, 4, 5, 5, 6, 6]]\n",
    "        X=np.array(M)[0].reshape((-1, 1))\n",
    "        Y=np.array(M)[1]\n",
    "        reg = LinearRegression().fit(X,Y)\n",
    "        b=reg.coef_\n",
    "        print(b)"
   ]
  },
  {
   "cell_type": "code",
   "execution_count": 14,
   "metadata": {},
   "outputs": [
    {
     "data": {
      "text/plain": [
       "tensor(8)"
      ]
     },
     "execution_count": 14,
     "metadata": {},
     "output_type": "execute_result"
    }
   ],
   "source": [
    "data1_train.targets[59999]"
   ]
  },
  {
   "cell_type": "markdown",
   "metadata": {},
   "source": [
    "### Récupération du slope b 🏷"
   ]
  },
  {
   "cell_type": "markdown",
   "metadata": {},
   "source": [
    "#### Feature 2 & 3 ✔"
   ]
  },
  {
   "cell_type": "code",
   "execution_count": 331,
   "metadata": {},
   "outputs": [],
   "source": [
    "#Récupération des 3 features\n",
    "def features(img,k) : \n",
    "    \n",
    "    liste=[]\n",
    "    block=split(img)\n",
    "    g=block[k]\n",
    "    M=coord(img,k)\n",
    "    c=total_noir(img)\n",
    "    S=0\n",
    "    i,j=0,0\n",
    "    if M[0]==[] and M[1]==[] :\n",
    "        liste=[0,0,1]\n",
    "    else:\n",
    "        \n",
    "        X=np.array(M)[0].reshape((-1, 1))\n",
    "        Y=np.array(M)[1]\n",
    "        reg = LinearRegression().fit(X,Y)\n",
    "        b=reg.coef_\n",
    "        \n",
    "        for i in range(0,7):\n",
    "            for j in range(0,7):\n",
    "                if g[i][j]!=0 :\n",
    "                    S=S+1\n",
    "        liste.append(float((1-b**2)/(1+b**2))) #feature3\n",
    "        liste.append(float((2*b)/(1+b**2))) #feature2\n",
    "        liste.append(S/total_noir(img)) #feature 1\n",
    "   \n",
    "    return liste\n"
   ]
  },
  {
   "cell_type": "code",
   "execution_count": 18,
   "metadata": {},
   "outputs": [
    {
     "data": {
      "text/plain": [
       "[0.8098005877796296, -0.586705213912205, 0.09397590361445783]"
      ]
     },
     "execution_count": 18,
     "metadata": {},
     "output_type": "execute_result"
    }
   ],
   "source": [
    "features(data1_train.data[2000],4)\n"
   ]
  },
  {
   "cell_type": "markdown",
   "metadata": {},
   "source": [
    "#### Feature Extraction de chaque image ✔"
   ]
  },
  {
   "cell_type": "code",
   "execution_count": 19,
   "metadata": {},
   "outputs": [],
   "source": [
    "def feature_image(img):\n",
    "    i=0\n",
    "    j=0\n",
    "    F= []\n",
    "    \n",
    "    for j in range(16):\n",
    "            F= F + features(img,j)\n",
    "    \n",
    "            \n",
    "    return F"
   ]
  },
  {
   "cell_type": "code",
   "execution_count": 20,
   "metadata": {},
   "outputs": [
    {
     "name": "stdout",
     "output_type": "stream",
     "text": [
      "tensor(2)\n"
     ]
    }
   ],
   "source": [
    "torch.tensor(feature_image(data1_train.data[5]))\n",
    "print(data1_train.targets[5])"
   ]
  },
  {
   "cell_type": "raw",
   "metadata": {},
   "source": [
    "data1_train.data\n",
    "data1_train.target"
   ]
  },
  {
   "cell_type": "markdown",
   "metadata": {},
   "source": []
  },
  {
   "cell_type": "markdown",
   "metadata": {},
   "source": [
    "# Build The NN 🧠"
   ]
  },
  {
   "cell_type": "markdown",
   "metadata": {},
   "source": [
    "## Préparation de l'environnement de notre NN :"
   ]
  },
  {
   "cell_type": "code",
   "execution_count": 21,
   "metadata": {},
   "outputs": [],
   "source": [
    "import torch\n",
    "import torch.nn as nn\n",
    "import torch.nn.functional as F\n",
    "import torch.optim as optim\n",
    "from torchvision import datasets, transforms\n",
    "from sklearn.model_selection import train_test_split\n"
   ]
  },
  {
   "cell_type": "markdown",
   "metadata": {},
   "source": [
    "### Our New Dataset ❤"
   ]
  },
  {
   "cell_type": "markdown",
   "metadata": {},
   "source": [
    "### Splitting pour train, test et validation ✔\n"
   ]
  },
  {
   "cell_type": "code",
   "execution_count": 332,
   "metadata": {},
   "outputs": [
    {
     "name": "stdout",
     "output_type": "stream",
     "text": [
      "torch.Size([50000, 28, 28]) torch.Size([50000])\n",
      "torch.Size([10000, 28, 28]) torch.Size([10000])\n",
      "torch.Size([10000])\n"
     ]
    }
   ],
   "source": [
    "# Création de tensors en résultat du splitting: données d'apprentissage, données de validation, labels d'apprentissage, et labels de validation  \n",
    "train_data, validation_data, train_targets, validation_targets = train_test_split(data1_train.data, data1_train.targets, test_size=10000)\n",
    "# Récupération les labels de test à partir de votre sous-dataset de test\n",
    "test_data = data1_test.data\n",
    "test_targets = data1_test.targets\n",
    "# Affichage la taille de chaque tensor\n",
    "print(train_data.shape, train_targets.shape)\n",
    "print(validation_data.shape, validation_targets.shape)\n",
    "print(test_targets.shape)"
   ]
  },
  {
   "cell_type": "markdown",
   "metadata": {},
   "source": [
    "###  Normalisation des données ✔"
   ]
  },
  {
   "cell_type": "code",
   "execution_count": 23,
   "metadata": {},
   "outputs": [
    {
     "name": "stdout",
     "output_type": "stream",
     "text": [
      "tensor(3.4379e-08) tensor(1.0000)\n",
      "tensor(0.0062) tensor(1.0080)\n",
      "tensor(0.0013) tensor(1.0018)\n"
     ]
    }
   ],
   "source": [
    "# Convertir les valeurs des tensors en float\n",
    "train_data = train_data.float()\n",
    "test_data = test_data.float()\n",
    "validation_data = validation_data.float()\n",
    "# Stocker dans des variables la moyenne et la déviation standard des données d'apprentissage \n",
    "mean_train = torch.mean(train_data)\n",
    "std_train = torch.std(train_data)\n",
    "# Normaliser les données d'apprentissage, de test, et de validation par ces valeurs\n",
    "train_data = (train_data - mean_train)/std_train\n",
    "test_data = (test_data - mean_train)/std_train\n",
    "validation_data = (validation_data - mean_train)/std_train\n",
    "# Afficher la moyenne et la déviation standard de chaque dataset\n",
    "print(train_data.mean(), train_data.std())\n",
    "print(test_data.mean(),test_data.std())\n",
    "print(validation_data.mean(), validation_data.std())"
   ]
  },
  {
   "cell_type": "markdown",
   "metadata": {},
   "source": [
    "### Création de Pytorch Dataset ✔"
   ]
  },
  {
   "cell_type": "code",
   "execution_count": 24,
   "metadata": {},
   "outputs": [
    {
     "name": "stdout",
     "output_type": "stream",
     "text": [
      "Wall time: 0 ns\n"
     ]
    }
   ],
   "source": [
    "%%time\n",
    "# Importer Dataset de torch.utils.data\n",
    "from torch.utils.data import Dataset\n",
    "    "
   ]
  },
  {
   "cell_type": "code",
   "execution_count": 47,
   "metadata": {},
   "outputs": [],
   "source": [
    "\n",
    "# Créer une classe qui hérite de Dataset et redéfinit les méthodes comme susmentionné\n",
    "class MyDataset(Dataset):\n",
    "    def __init__(self, data, targets):\n",
    "        super(MyDataset, self)\n",
    "        self.data=[]\n",
    "        self.targets=[]\n",
    "        for i in range(60000):\n",
    "            self.data.append(torch.tensor(feature_image(data1_train.data[i])))\n",
    "            self.targets.append( data1_train.targets[i])\n",
    "    def __getitem__(self, idx):\n",
    "        return self.data[idx], self.targets[idx]\n",
    "    def __len__(self):\n",
    "        return len(self.targets)"
   ]
  },
  {
   "cell_type": "code",
   "execution_count": null,
   "metadata": {},
   "outputs": [],
   "source": []
  },
  {
   "cell_type": "code",
   "execution_count": 48,
   "metadata": {},
   "outputs": [
    {
     "name": "stdout",
     "output_type": "stream",
     "text": [
      "Wall time: 5h 43min 27s\n"
     ]
    }
   ],
   "source": [
    "%%time\n",
    "train_dataset = MyDataset(train_data, train_targets)\n",
    "test_dataset = MyDataset(test_data, test_targets)\n",
    "validation_dataset = MyDataset(validation_data, validation_targets)"
   ]
  },
  {
   "cell_type": "code",
   "execution_count": 240,
   "metadata": {},
   "outputs": [
    {
     "name": "stdout",
     "output_type": "stream",
     "text": [
      "torch.Size([48])\n",
      "tensor(2)\n",
      "tensor([ 1.0000e+00,  0.0000e+00,  5.0761e-03,  9.3606e-01, -3.5183e-01,\n",
      "         7.3604e-02,  9.9518e-01,  9.8112e-02,  1.1929e-01,  1.0000e+00,\n",
      "         0.0000e+00,  1.0152e-02,  1.0000e+00,  0.0000e+00,  1.0152e-02,\n",
      "         8.1272e-01,  5.8266e-01,  7.1066e-02,  8.6875e-01, -4.9525e-01,\n",
      "         8.8832e-02,  1.0000e+00,  0.0000e+00,  1.7766e-02,  7.9681e-01,\n",
      "        -6.0424e-01,  6.0914e-02,  9.9829e-01,  5.8425e-02,  1.0660e-01,\n",
      "         1.0000e+00, -6.0076e-17,  1.2183e-01,  8.5002e-01,  5.2674e-01,\n",
      "         5.3299e-02,  1.0000e+00, -1.5460e-17,  1.2437e-01,  9.0787e-01,\n",
      "        -4.1926e-01,  8.6294e-02,  9.8969e-01, -1.4326e-01,  1.7766e-02,\n",
      "         9.9757e-01,  6.9683e-02,  3.2995e-02])\n"
     ]
    }
   ],
   "source": [
    "print(train_dataset.data[5].shape)\n",
    "print(train_dataset.targets[5])\n",
    "print(train_dataset.data[5])\n"
   ]
  },
  {
   "cell_type": "code",
   "execution_count": 239,
   "metadata": {},
   "outputs": [
    {
     "name": "stdout",
     "output_type": "stream",
     "text": [
      "torch.Size([28, 28])\n",
      "tensor(2)\n",
      "tensor([[  0,   0,   0,   0,   0,   0,   0,   0,   0,   0,   0,   0,   0,   0,\n",
      "           0,   0,   0,   0,   0,   0,   0,   0,   0,   0,   0,   0,   0,   0],\n",
      "        [  0,   0,   0,   0,   0,   0,   0,   0,   0,   0,   0,   0,   0,   0,\n",
      "           0,   0,   0,   0,   0,   0,   0,   0,   0,   0,   0,   0,   0,   0],\n",
      "        [  0,   0,   0,   0,   0,   0,   0,   0,   0,   0,   0,   0,   0,   0,\n",
      "           0,   0,   0,   0,   0,   0,   0,   0,   0,   0,   0,   0,   0,   0],\n",
      "        [  0,   0,   0,   0,   0,   0,   0,   0,   0,   0,   0,   0,   0,   0,\n",
      "           0,   0,   0,   0,   0,   0,   0,   0,   0,   0,   0,   0,   0,   0],\n",
      "        [  0,   0,   0,   0,   0,   0,   0,   0,   0,   0,   0,   0,   0,   0,\n",
      "           0,   0,   0,   0,   0,   0,   0,   0,   0,   0,   0,   0,   0,   0],\n",
      "        [  0,   0,   0,   0,   0,   0,   0,   0,   0,   0,   0,   0,   0,   0,\n",
      "           0,  13,  25, 100, 122,   7,   0,   0,   0,   0,   0,   0,   0,   0],\n",
      "        [  0,   0,   0,   0,   0,   0,   0,   0,   0,   0,   0,   0,   0,  33,\n",
      "         151, 208, 252, 252, 252, 146,   0,   0,   0,   0,   0,   0,   0,   0],\n",
      "        [  0,   0,   0,   0,   0,   0,   0,   0,   0,   0,   0,  40, 152, 244,\n",
      "         252, 253, 224, 211, 252, 232,  40,   0,   0,   0,   0,   0,   0,   0],\n",
      "        [  0,   0,   0,   0,   0,   0,   0,   0,   0,  15, 152, 239, 252, 252,\n",
      "         252, 216,  31,  37, 252, 252,  60,   0,   0,   0,   0,   0,   0,   0],\n",
      "        [  0,   0,   0,   0,   0,   0,   0,   0,   0,  96, 252, 252, 252, 252,\n",
      "         217,  29,   0,  37, 252, 252,  60,   0,   0,   0,   0,   0,   0,   0],\n",
      "        [  0,   0,   0,   0,   0,   0,   0,   0,   0, 181, 252, 252, 220, 167,\n",
      "          30,   0,   0,  77, 252, 252,  60,   0,   0,   0,   0,   0,   0,   0],\n",
      "        [  0,   0,   0,   0,   0,   0,   0,   0,   0,  26, 128,  58,  22,   0,\n",
      "           0,   0,   0, 100, 252, 252,  60,   0,   0,   0,   0,   0,   0,   0],\n",
      "        [  0,   0,   0,   0,   0,   0,   0,   0,   0,   0,   0,   0,   0,   0,\n",
      "           0,   0,   0, 157, 252, 252,  60,   0,   0,   0,   0,   0,   0,   0],\n",
      "        [  0,   0,   0,   0,   0,   0,   0,   0,   0,   0,   0,   0,   0, 110,\n",
      "         121, 122, 121, 202, 252, 194,   3,   0,   0,   0,   0,   0,   0,   0],\n",
      "        [  0,   0,   0,   0,   0,   0,   0,   0,   0,   0,  10,  53, 179, 253,\n",
      "         253, 255, 253, 253, 228,  35,   0,   0,   0,   0,   0,   0,   0,   0],\n",
      "        [  0,   0,   0,   0,   0,   0,   0,   0,   5,  54, 227, 252, 243, 228,\n",
      "         170, 242, 252, 252, 231, 117,   6,   0,   0,   0,   0,   0,   0,   0],\n",
      "        [  0,   0,   0,   0,   0,   0,   0,   6,  78, 252, 252, 125,  59,   0,\n",
      "          18, 208, 252, 252, 252, 252,  87,   7,   0,   0,   0,   0,   0,   0],\n",
      "        [  0,   0,   0,   0,   0,   0,   5, 135, 252, 252, 180,  16,   0,  21,\n",
      "         203, 253, 247, 129, 173, 252, 252, 184,  66,  49,  49,   0,   0,   0],\n",
      "        [  0,   0,   0,   0,   0,   3, 136, 252, 241, 106,  17,   0,  53, 200,\n",
      "         252, 216,  65,   0,  14,  72, 163, 241, 252, 252, 223,   0,   0,   0],\n",
      "        [  0,   0,   0,   0,   0, 105, 252, 242,  88,  18,  73, 170, 244, 252,\n",
      "         126,  29,   0,   0,   0,   0,   0,  89, 180, 180,  37,   0,   0,   0],\n",
      "        [  0,   0,   0,   0,   0, 231, 252, 245, 205, 216, 252, 252, 252, 124,\n",
      "           3,   0,   0,   0,   0,   0,   0,   0,   0,   0,   0,   0,   0,   0],\n",
      "        [  0,   0,   0,   0,   0, 207, 252, 252, 252, 252, 178, 116,  36,   4,\n",
      "           0,   0,   0,   0,   0,   0,   0,   0,   0,   0,   0,   0,   0,   0],\n",
      "        [  0,   0,   0,   0,   0,  13,  93, 143, 121,  23,   6,   0,   0,   0,\n",
      "           0,   0,   0,   0,   0,   0,   0,   0,   0,   0,   0,   0,   0,   0],\n",
      "        [  0,   0,   0,   0,   0,   0,   0,   0,   0,   0,   0,   0,   0,   0,\n",
      "           0,   0,   0,   0,   0,   0,   0,   0,   0,   0,   0,   0,   0,   0],\n",
      "        [  0,   0,   0,   0,   0,   0,   0,   0,   0,   0,   0,   0,   0,   0,\n",
      "           0,   0,   0,   0,   0,   0,   0,   0,   0,   0,   0,   0,   0,   0],\n",
      "        [  0,   0,   0,   0,   0,   0,   0,   0,   0,   0,   0,   0,   0,   0,\n",
      "           0,   0,   0,   0,   0,   0,   0,   0,   0,   0,   0,   0,   0,   0],\n",
      "        [  0,   0,   0,   0,   0,   0,   0,   0,   0,   0,   0,   0,   0,   0,\n",
      "           0,   0,   0,   0,   0,   0,   0,   0,   0,   0,   0,   0,   0,   0],\n",
      "        [  0,   0,   0,   0,   0,   0,   0,   0,   0,   0,   0,   0,   0,   0,\n",
      "           0,   0,   0,   0,   0,   0,   0,   0,   0,   0,   0,   0,   0,   0]],\n",
      "       dtype=torch.uint8)\n"
     ]
    }
   ],
   "source": [
    "print(data1_train.data[5].shape)\n",
    "print(data1_train.targets[5])\n",
    "print(data1_train.data[5])\n"
   ]
  },
  {
   "cell_type": "code",
   "execution_count": 222,
   "metadata": {},
   "outputs": [],
   "source": [
    "# Importer DataLoader de torch.utils.data\n",
    "from torch.utils.data import DataLoader"
   ]
  },
  {
   "cell_type": "code",
   "execution_count": 223,
   "metadata": {},
   "outputs": [],
   "source": [
    "# Créer une variable pour la taille du batch\n",
    "batch_size = 64"
   ]
  },
  {
   "cell_type": "code",
   "execution_count": 224,
   "metadata": {},
   "outputs": [],
   "source": [
    "# Créer les objets DataLoader pour les datasets d'apprentissage, test et validation en lui donner la taille du batch convenue\n",
    "\n",
    "train_DL = DataLoader(train_dataset, batch_size=batch_size, shuffle=True)\n",
    "test_DL = DataLoader(test_dataset, batch_size=batch_size, shuffle=False)\n",
    "validation_DL = DataLoader(validation_dataset, batch_size=batch_size, shuffle=False)"
   ]
  },
  {
   "cell_type": "code",
   "execution_count": 225,
   "metadata": {},
   "outputs": [],
   "source": [
    "from sklearn import datasets\n",
    "#import pandas as pd \n",
    "\n",
    "#df = pd.DataFrame(data=train_DL)\n",
    "#df.to_csv('validation_dataset.csv', sep = ',', index = False)"
   ]
  },
  {
   "cell_type": "markdown",
   "metadata": {},
   "source": [
    "![tt](tt.svg)"
   ]
  },
  {
   "cell_type": "code",
   "execution_count": 226,
   "metadata": {},
   "outputs": [],
   "source": [
    "# Importer le module nn\n",
    "import torch.nn as nn"
   ]
  },
  {
   "cell_type": "code",
   "execution_count": 501,
   "metadata": {},
   "outputs": [],
   "source": [
    "import torch.nn.functional as F\n",
    "# En utilisant Sequential(), créer un modèle avec l'architecture susmentionnée\n",
    "# Créer une classe qui hérite de nn.Module et redéfinir le constructeur ainsi que la méthode forward\n",
    "class Net (nn.Module):\n",
    "    def __init__ (self):\n",
    "        \n",
    "        super(Net, self).__init__()\n",
    "        self.fc1 = nn.Linear(48, 200)\n",
    "        nn.BatchNorm1d(200)\n",
    "        nn.Dropout(0.5)\n",
    "        self.fc2 = nn.Linear(200, 100)\n",
    "        nn.BatchNorm1d(100)\n",
    "        nn.Dropout(0.5)\n",
    "        self.fc4= nn.Linear(100, 20)\n",
    "        nn.BatchNorm1d(20)\n",
    "        nn.Dropout(0.5)\n",
    "        self.fc5= nn.Linear(20, 20)\n",
    "        nn.BatchNorm1d(20)\n",
    "        nn.Dropout(0.5)\n",
    "        self.fc3= nn.Linear(20, 10)\n",
    "\n",
    "    def forward(self, x):\n",
    "        x = F.selu(self.fc1(x))\n",
    "        x = F.relu(self.fc2(x))\n",
    "        x = F.selu(self.fc4(x))\n",
    "        x = F.relu(self.fc5(x))\n",
    "        x = self.fc3(x)\n",
    "        return x"
   ]
  },
  {
   "cell_type": "code",
   "execution_count": 502,
   "metadata": {},
   "outputs": [
    {
     "data": {
      "text/plain": [
       "Net(\n",
       "  (fc1): Linear(in_features=48, out_features=200, bias=True)\n",
       "  (fc2): Linear(in_features=200, out_features=100, bias=True)\n",
       "  (fc4): Linear(in_features=100, out_features=20, bias=True)\n",
       "  (fc5): Linear(in_features=20, out_features=20, bias=True)\n",
       "  (fc3): Linear(in_features=20, out_features=10, bias=True)\n",
       ")"
      ]
     },
     "execution_count": 502,
     "metadata": {},
     "output_type": "execute_result"
    }
   ],
   "source": [
    "model= Net()\n",
    "model"
   ]
  },
  {
   "cell_type": "code",
   "execution_count": 503,
   "metadata": {},
   "outputs": [],
   "source": [
    "# Définir la fonction du coût. On peut choisir CrossEntropyLoss\n",
    "loss_function = nn.CrossEntropyLoss()"
   ]
  },
  {
   "cell_type": "code",
   "execution_count": 496,
   "metadata": {},
   "outputs": [],
   "source": [
    "# Définir une fonction d'optimisation des coût, On choisira 0.001 pour le learning rate.\n",
    "import torch.optim as optim\n",
    "#optimizer = optim.Adadelta(model.parameters(), lr=100)\n",
    "#optimizer = optim.Adam(model.parameters(), lr=0.001)\n",
    "optimizer = optim.SGD(model.parameters(), lr=0.001, momentum=0.9)"
   ]
  },
  {
   "cell_type": "code",
   "execution_count": 499,
   "metadata": {},
   "outputs": [],
   "source": [
    "# Définir le nombre d'epochs. Commencer petit. \n",
    "epoch = 4"
   ]
  },
  {
   "cell_type": "code",
   "execution_count": 500,
   "metadata": {},
   "outputs": [
    {
     "name": "stdout",
     "output_type": "stream",
     "text": [
      "epoch: 0, train loss: 1.1371, validation loss: 1.0019, correct predictions: 66.14%\n",
      "epoch: 1, train loss: 0.8618, validation loss: 0.7493, correct predictions: 75.75%\n",
      "epoch: 2, train loss: 0.7103, validation loss: 0.6792, correct predictions: 77.73%\n",
      "epoch: 3, train loss: 0.6582, validation loss: 0.6369, correct predictions: 79.17%\n"
     ]
    }
   ],
   "source": [
    "for ep in range(epoch):\n",
    "    \n",
    "    train_loss = 0\n",
    "    \n",
    "    for data in train_DL:\n",
    "        feature,label= data\n",
    "        \n",
    "        output = model(torch.flatten(feature, start_dim=1))\n",
    "        \n",
    "        loss = loss_function(output, label)\n",
    "        \n",
    "        optimizer.zero_grad()\n",
    "        loss.backward()\n",
    "        \n",
    "        optimizer.step()\n",
    "        \n",
    "        train_loss +=  loss.item() #it's a tensor\n",
    "    \n",
    "    train_loss /= len(train_DL)\n",
    "        \n",
    "\n",
    "    # boucle de validation:\n",
    "    valid_loss = 0\n",
    "    correct = 0\n",
    "    total = 0\n",
    "\n",
    "    with torch.no_grad():\n",
    "         for data in validation_DL:\n",
    "                feature, label = data\n",
    "\n",
    "                output = model(feature.view(-1, 48))\n",
    "\n",
    "                loss = loss_function(output, label)\n",
    "                valid_loss +=  loss.item()\n",
    "\n",
    "                correct += torch.sum(torch.argmax(output, dim=1) == label).item()\n",
    "\n",
    "    valid_loss /= len(validation_DL)\n",
    "    correct /= len(validation_DL.dataset) #10.000\n",
    "\n",
    "    print(f\"epoch: {ep}, train loss: {train_loss:.4f}, validation loss: {valid_loss:.4f}, correct predictions: {correct*100:.2f}%\")"
   ]
  },
  {
   "cell_type": "code",
   "execution_count": 466,
   "metadata": {},
   "outputs": [
    {
     "name": "stdout",
     "output_type": "stream",
     "text": [
      "Accuracy 93.38%\n"
     ]
    }
   ],
   "source": [
    "test_loss = 0\n",
    "correct = 0\n",
    "\n",
    "with torch.no_grad():\n",
    "    \n",
    "    for data in validation_DL:\n",
    "        feature, label = data\n",
    "        \n",
    "        output = model(feature.view(-1, 48))\n",
    "        \n",
    "        loss = loss_function (output, label)\n",
    "        test_loss += loss.item()\n",
    "        \n",
    "        correct += torch.sum(torch.argmax(output, dim=1) == label).item()\n",
    "        \n",
    "\n",
    "    test_loss /= len(test_DL)\n",
    "    correct /= len(test_DL.dataset) #10.000  \n",
    "\n",
    "print(f\"Accuracy {correct*100:.2f}%\")"
   ]
  },
  {
   "cell_type": "code",
   "execution_count": 491,
   "metadata": {},
   "outputs": [
    {
     "data": {
      "text/plain": [
       "tensor(3)"
      ]
     },
     "execution_count": 491,
     "metadata": {},
     "output_type": "execute_result"
    }
   ],
   "source": [
    "torch.argmax(model(train_dataset.data[7]))"
   ]
  },
  {
   "cell_type": "code",
   "execution_count": 450,
   "metadata": {},
   "outputs": [
    {
     "data": {
      "image/png": "[encoded data removed]",
      "text/plain": [
       "<Figure size 432x288 with 1 Axes>"
      ]
     },
     "metadata": {
      "needs_background": "light"
     },
     "output_type": "display_data"
    }
   ],
   "source": [
    "import matplotlib.pyplot as plt\n",
    "plt.imshow(feature[0].view(6,8))\n",
    "plt.title(torch.argmax(model(feature[12].view(-1, 48))))\n",
    "plt.show()"
   ]
  },
  {
   "cell_type": "code",
   "execution_count": 431,
   "metadata": {},
   "outputs": [
    {
     "data": {
      "text/plain": [
       "tensor(3)"
      ]
     },
     "execution_count": 431,
     "metadata": {},
     "output_type": "execute_result"
    }
   ],
   "source": [
    "data1_train.targets[12]"
   ]
  },
  {
   "cell_type": "code",
   "execution_count": 488,
   "metadata": {},
   "outputs": [],
   "source": [
    "torch.save(model.state_dict(),\"model_final93.pth\")"
   ]
  },
  {
   "cell_type": "code",
   "execution_count": 489,
   "metadata": {},
   "outputs": [],
   "source": [
    "torch.save({\n",
    "            'epoch': epoch,\n",
    "            'model_state_dict': model.state_dict(),\n",
    "            'optimizer_state_dict': optimizer.state_dict(),\n",
    "            'loss': loss}, \"model93.pth\")"
   ]
  },
  {
   "cell_type": "code",
   "execution_count": 490,
   "metadata": {},
   "outputs": [],
   "source": [
    "from pickle import dump\n",
    "from sklearn.preprocessing import MinMaxScaler\n",
    "# save the model\n",
    "dump(model, open('model93.pkl', 'wb'))\n"
   ]
  },
  {
   "cell_type": "markdown",
   "metadata": {},
   "source": [
    "## GUI of The Model ❤"
   ]
  },
  {
   "cell_type": "code",
   "execution_count": null,
   "metadata": {},
   "outputs": [],
   "source": [
    "feature_image(data1_train.data[i])"
   ]
  },
  {
   "cell_type": "code",
   "execution_count": 471,
   "metadata": {},
   "outputs": [
    {
     "name": "stdout",
     "output_type": "stream",
     "text": [
      "PNG\n",
      "(819, 460)\n",
      "RGB\n"
     ]
    }
   ],
   "source": [
    "# load and show an image with Pillow\n",
    "from PIL import Image\n",
    "# Open the image form working directory\n",
    "image = Image.open('chiffre.png')\n",
    "# summarize some details about the image\n",
    "print(image.format)\n",
    "print(image.size)\n",
    "print(image.mode)\n",
    "# show the image\n"
   ]
  },
  {
   "cell_type": "code",
   "execution_count": 472,
   "metadata": {},
   "outputs": [
    {
     "name": "stdout",
     "output_type": "stream",
     "text": [
      "<class 'numpy.ndarray'>\n",
      "(460, 819, 3)\n",
      "<class 'PIL.Image.Image'>\n",
      "RGB\n",
      "(819, 460)\n"
     ]
    }
   ],
   "source": [
    "from PIL import Image\n",
    "from numpy import asarray\n",
    "# load the image\n",
    "image = Image.open('chiffre.png')\n",
    "# convert image to numpy array\n",
    "data = asarray(image)\n",
    "print(type(data))\n",
    "# summarize shape\n",
    "print(data.shape)\n",
    "\n",
    "# create Pillow image\n",
    "image2 = Image.fromarray(data)\n",
    "print(type(image2))\n",
    "\n",
    "# summarize image details\n",
    "print(image2.mode)\n",
    "print(image2.size)"
   ]
  },
  {
   "cell_type": "code",
   "execution_count": null,
   "metadata": {},
   "outputs": [],
   "source": []
  },
  {
   "cell_type": "code",
   "execution_count": 487,
   "metadata": {},
   "outputs": [
    {
     "ename": "ValueError",
     "evalue": "too many values to unpack (expected 2)",
     "output_type": "error",
     "traceback": [
      "\u001b[1;31m---------------------------------------------------------------------------\u001b[0m",
      "\u001b[1;31mValueError\u001b[0m                                Traceback (most recent call last)",
      "\u001b[1;32m<ipython-input-487-e77bf54c65f5>\u001b[0m in \u001b[0;36m<module>\u001b[1;34m\u001b[0m\n\u001b[0;32m      1\u001b[0m \u001b[0mtest\u001b[0m \u001b[1;33m=\u001b[0m \u001b[0mnp\u001b[0m\u001b[1;33m.\u001b[0m\u001b[0marray\u001b[0m\u001b[1;33m(\u001b[0m\u001b[0mImage\u001b[0m\u001b[1;33m.\u001b[0m\u001b[0mopen\u001b[0m\u001b[1;33m(\u001b[0m\u001b[1;34m'chiffre.png'\u001b[0m\u001b[1;33m)\u001b[0m\u001b[1;33m.\u001b[0m\u001b[0mresize\u001b[0m\u001b[1;33m(\u001b[0m\u001b[1;33m(\u001b[0m\u001b[1;36m28\u001b[0m\u001b[1;33m,\u001b[0m\u001b[1;36m28\u001b[0m\u001b[1;33m)\u001b[0m\u001b[1;33m)\u001b[0m\u001b[1;33m)\u001b[0m\u001b[1;33m\u001b[0m\u001b[1;33m\u001b[0m\u001b[0m\n\u001b[0;32m      2\u001b[0m \u001b[0mM\u001b[0m\u001b[1;33m=\u001b[0m\u001b[0mtorch\u001b[0m\u001b[1;33m.\u001b[0m\u001b[0mtensor\u001b[0m\u001b[1;33m(\u001b[0m\u001b[0mtest\u001b[0m\u001b[1;33m)\u001b[0m\u001b[1;33m\u001b[0m\u001b[1;33m\u001b[0m\u001b[0m\n\u001b[1;32m----> 3\u001b[1;33m \u001b[0mM\u001b[0m\u001b[1;33m=\u001b[0m\u001b[0mfeature_image\u001b[0m\u001b[1;33m(\u001b[0m\u001b[0mM\u001b[0m\u001b[1;33m)\u001b[0m\u001b[1;33m\u001b[0m\u001b[1;33m\u001b[0m\u001b[0m\n\u001b[0m",
      "\u001b[1;32m<ipython-input-19-936fd5875bd8>\u001b[0m in \u001b[0;36mfeature_image\u001b[1;34m(img)\u001b[0m\n\u001b[0;32m      5\u001b[0m \u001b[1;33m\u001b[0m\u001b[0m\n\u001b[0;32m      6\u001b[0m     \u001b[1;32mfor\u001b[0m \u001b[0mj\u001b[0m \u001b[1;32min\u001b[0m \u001b[0mrange\u001b[0m\u001b[1;33m(\u001b[0m\u001b[1;36m16\u001b[0m\u001b[1;33m)\u001b[0m\u001b[1;33m:\u001b[0m\u001b[1;33m\u001b[0m\u001b[1;33m\u001b[0m\u001b[0m\n\u001b[1;32m----> 7\u001b[1;33m             \u001b[0mF\u001b[0m\u001b[1;33m=\u001b[0m \u001b[0mF\u001b[0m \u001b[1;33m+\u001b[0m \u001b[0mfeatures\u001b[0m\u001b[1;33m(\u001b[0m\u001b[0mimg\u001b[0m\u001b[1;33m,\u001b[0m\u001b[0mj\u001b[0m\u001b[1;33m)\u001b[0m\u001b[1;33m\u001b[0m\u001b[1;33m\u001b[0m\u001b[0m\n\u001b[0m\u001b[0;32m      8\u001b[0m \u001b[1;33m\u001b[0m\u001b[0m\n\u001b[0;32m      9\u001b[0m \u001b[1;33m\u001b[0m\u001b[0m\n",
      "\u001b[1;32m<ipython-input-331-40f21fe96acf>\u001b[0m in \u001b[0;36mfeatures\u001b[1;34m(img, k)\u001b[0m\n\u001b[0;32m      3\u001b[0m \u001b[1;33m\u001b[0m\u001b[0m\n\u001b[0;32m      4\u001b[0m     \u001b[0mliste\u001b[0m\u001b[1;33m=\u001b[0m\u001b[1;33m[\u001b[0m\u001b[1;33m]\u001b[0m\u001b[1;33m\u001b[0m\u001b[1;33m\u001b[0m\u001b[0m\n\u001b[1;32m----> 5\u001b[1;33m     \u001b[0mblock\u001b[0m\u001b[1;33m=\u001b[0m\u001b[0msplit\u001b[0m\u001b[1;33m(\u001b[0m\u001b[0mimg\u001b[0m\u001b[1;33m)\u001b[0m\u001b[1;33m\u001b[0m\u001b[1;33m\u001b[0m\u001b[0m\n\u001b[0m\u001b[0;32m      6\u001b[0m     \u001b[0mg\u001b[0m\u001b[1;33m=\u001b[0m\u001b[0mblock\u001b[0m\u001b[1;33m[\u001b[0m\u001b[0mk\u001b[0m\u001b[1;33m]\u001b[0m\u001b[1;33m\u001b[0m\u001b[1;33m\u001b[0m\u001b[0m\n\u001b[0;32m      7\u001b[0m     \u001b[0mM\u001b[0m\u001b[1;33m=\u001b[0m\u001b[0mcoord\u001b[0m\u001b[1;33m(\u001b[0m\u001b[0mimg\u001b[0m\u001b[1;33m,\u001b[0m\u001b[0mk\u001b[0m\u001b[1;33m)\u001b[0m\u001b[1;33m\u001b[0m\u001b[1;33m\u001b[0m\u001b[0m\n",
      "\u001b[1;32m<ipython-input-477-154c22dcc4f9>\u001b[0m in \u001b[0;36msplit\u001b[1;34m(img)\u001b[0m\n\u001b[0;32m     34\u001b[0m \u001b[1;32mdef\u001b[0m \u001b[0msplit\u001b[0m\u001b[1;33m(\u001b[0m\u001b[0mimg\u001b[0m\u001b[1;33m)\u001b[0m\u001b[1;33m:\u001b[0m\u001b[1;33m\u001b[0m\u001b[1;33m\u001b[0m\u001b[0m\n\u001b[0;32m     35\u001b[0m         \u001b[0mblocks\u001b[0m \u001b[1;33m=\u001b[0m \u001b[1;33m[\u001b[0m\u001b[1;33m]\u001b[0m\u001b[1;33m\u001b[0m\u001b[1;33m\u001b[0m\u001b[0m\n\u001b[1;32m---> 36\u001b[1;33m         \u001b[1;33m[\u001b[0m\u001b[0mrow\u001b[0m\u001b[1;33m,\u001b[0m \u001b[0mcol\u001b[0m\u001b[1;33m]\u001b[0m \u001b[1;33m=\u001b[0m \u001b[0mimg\u001b[0m\u001b[1;33m.\u001b[0m\u001b[0mshape\u001b[0m\u001b[1;33m\u001b[0m\u001b[1;33m\u001b[0m\u001b[0m\n\u001b[0m\u001b[0;32m     37\u001b[0m         \u001b[1;32mfor\u001b[0m \u001b[0mi\u001b[0m \u001b[1;32min\u001b[0m \u001b[0mrange\u001b[0m \u001b[1;33m(\u001b[0m\u001b[1;36m0\u001b[0m\u001b[1;33m,\u001b[0m \u001b[0mrow\u001b[0m\u001b[1;33m,\u001b[0m \u001b[1;36m7\u001b[0m\u001b[1;33m)\u001b[0m\u001b[1;33m:\u001b[0m\u001b[1;33m\u001b[0m\u001b[1;33m\u001b[0m\u001b[0m\n\u001b[0;32m     38\u001b[0m                 \u001b[1;32mfor\u001b[0m \u001b[0mj\u001b[0m \u001b[1;32min\u001b[0m \u001b[0mrange\u001b[0m\u001b[1;33m(\u001b[0m\u001b[1;36m0\u001b[0m\u001b[1;33m,\u001b[0m \u001b[0mcol\u001b[0m\u001b[1;33m,\u001b[0m \u001b[1;36m7\u001b[0m\u001b[1;33m)\u001b[0m\u001b[1;33m:\u001b[0m\u001b[1;33m\u001b[0m\u001b[1;33m\u001b[0m\u001b[0m\n",
      "\u001b[1;31mValueError\u001b[0m: too many values to unpack (expected 2)"
     ]
    }
   ],
   "source": [
    "test = np.array(Image.open('chiffre.png').resize((28,28)))\n",
    "M=torch.tensor(test)\n",
    "M=feature_image(M)"
   ]
  },
  {
   "cell_type": "markdown",
   "metadata": {},
   "source": [
    "![dd](https://lithub.com/wp-content/uploads/2019/07/writing.jpg)"
   ]
  }
 ],
 "metadata": {
  "kernelspec": {
   "display_name": "Python 3",
   "language": "python",
   "name": "python3"
  },
  "language_info": {
   "codemirror_mode": {
    "name": "ipython",
    "version": 3
   },
   "file_extension": ".py",
   "mimetype": "text/x-python",
   "name": "python",
   "nbconvert_exporter": "python",
   "pygments_lexer": "ipython3",
   "version": "3.8.3"
  }
 },
 "nbformat": 4,
 "nbformat_minor": 4
}
